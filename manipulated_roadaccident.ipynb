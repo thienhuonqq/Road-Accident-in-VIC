{
 "cells": [
  {
   "cell_type": "code",
   "execution_count": 1,
   "metadata": {},
   "outputs": [],
   "source": [
    "# Importing standard libraries\n",
    "\n",
    "import pandas as pd\n",
    "import numpy as np\n",
    "import datetime as dt\n",
    "import seaborn as sns\n",
    "\n",
    "from sklearn import preprocessing\n",
    "import sklearn\n",
    "from sklearn.svm import SVC\n",
    "from sklearn.preprocessing import StandardScaler\n",
    "from sklearn.datasets import make_classification\n",
    "from sklearn.preprocessing import LabelEncoder\n",
    "from sklearn.preprocessing import OneHotEncoder\n",
    "from sklearn.model_selection import train_test_split\n",
    "from sklearn.pipeline import Pipeline\n",
    "from sklearn.compose import ColumnTransformer\n",
    "from sklearn.preprocessing import Normalizer\n",
    "from matplotlib import pyplot as plt\n"
   ]
  },
  {
   "cell_type": "code",
   "execution_count": 2,
   "metadata": {},
   "outputs": [
    {
     "name": "stderr",
     "output_type": "stream",
     "text": [
      "/var/folders/f2/7t7dy3815cxcyl6h2wq6k6380000gn/T/ipykernel_10857/4212262068.py:2: DtypeWarning: Columns (0) have mixed types. Specify dtype option on import or set low_memory=False.\n",
      "  accident_df = pd.read_csv('ACCIDENT.csv')\n",
      "/var/folders/f2/7t7dy3815cxcyl6h2wq6k6380000gn/T/ipykernel_10857/4212262068.py:4: DtypeWarning: Columns (0) have mixed types. Specify dtype option on import or set low_memory=False.\n",
      "  accident_event_df = pd.read_csv('ACCIDENT_EVENT.csv')\n",
      "/var/folders/f2/7t7dy3815cxcyl6h2wq6k6380000gn/T/ipykernel_10857/4212262068.py:5: DtypeWarning: Columns (0) have mixed types. Specify dtype option on import or set low_memory=False.\n",
      "  accident_location_df = pd.read_csv('ACCIDENT_LOCATION.csv')\n",
      "/var/folders/f2/7t7dy3815cxcyl6h2wq6k6380000gn/T/ipykernel_10857/4212262068.py:8: DtypeWarning: Columns (0) have mixed types. Specify dtype option on import or set low_memory=False.\n",
      "  node_df = pd.read_csv('NODE.csv')\n",
      "/var/folders/f2/7t7dy3815cxcyl6h2wq6k6380000gn/T/ipykernel_10857/4212262068.py:9: DtypeWarning: Columns (0,13) have mixed types. Specify dtype option on import or set low_memory=False.\n",
      "  person_df = pd.read_csv('PERSON.csv')\n",
      "/var/folders/f2/7t7dy3815cxcyl6h2wq6k6380000gn/T/ipykernel_10857/4212262068.py:11: DtypeWarning: Columns (0) have mixed types. Specify dtype option on import or set low_memory=False.\n",
      "  subdca_df = pd.read_csv('SUBDCA.csv')\n",
      "/var/folders/f2/7t7dy3815cxcyl6h2wq6k6380000gn/T/ipykernel_10857/4212262068.py:12: DtypeWarning: Columns (0,3,11,20,22,36) have mixed types. Specify dtype option on import or set low_memory=False.\n",
      "  vehicle_df = pd.read_csv('VEHICLE.csv')\n"
     ]
    }
   ],
   "source": [
    "\n",
    "# File paths\n",
    "accident_df = pd.read_csv('ACCIDENT.csv')\n",
    "accident_chainage_df = pd.read_csv('ACCIDENT_CHAINAGE.csv')\n",
    "accident_event_df = pd.read_csv('ACCIDENT_EVENT.csv')\n",
    "accident_location_df = pd.read_csv('ACCIDENT_LOCATION.csv')\n",
    "atmospheric_cond_df = pd.read_csv('ATMOSPHERIC_COND.csv')\n",
    "node_id_complex_int_id_df = pd.read_csv('NODE_ID_COMPLEX_INT_ID.csv')\n",
    "node_df = pd.read_csv('NODE.csv')\n",
    "person_df = pd.read_csv('PERSON.csv')\n",
    "road_surface_cond_df = pd.read_csv('ROAD_SURFACE_COND.csv')\n",
    "subdca_df = pd.read_csv('SUBDCA.csv')\n",
    "vehicle_df = pd.read_csv('VEHICLE.csv')"
   ]
  },
  {
   "cell_type": "code",
   "execution_count": 3,
   "metadata": {},
   "outputs": [
    {
     "name": "stdout",
     "output_type": "stream",
     "text": [
      "{'ACCIDENT_NO': 'accident no', 'ACCIDENTDATE': 'accidentdate', 'ACCIDENTTIME': 'accidenttime', 'ACCIDENT_TYPE': 'accident type', 'Accident Type Desc': 'accident type desc', 'DAY_OF_WEEK': 'day of week', 'Day Week Description': 'day week description', 'DCA_CODE': 'dca code', 'DCA Description': 'dca description', 'PAGE': 'page', 'GRID_REFERENCE_X': 'grid reference x', 'GRID_REFERENCE_Y': 'grid reference y', 'LIGHT_CONDITION': 'light condition', 'Light Condition Desc': 'light condition desc', 'NODE_ID': 'node id', 'NO_OF_VEHICLES': 'no of vehicles', 'NO_PERSONS': 'no persons', 'NO_PERSONS_INJ_2': 'no persons inj 2', 'NO_PERSONS_INJ_3': 'no persons inj 3', 'NO_PERSONS_KILLED': 'no persons killed', 'NO_PERSONS_NOT_INJ': 'no persons not inj', 'POLICE_ATTEND': 'police attend', 'ROAD_GEOMETRY': 'road geometry', 'Road Geometry Desc': 'road geometry desc', 'SEVERITY': 'severity', 'SPEED_ZONE': 'speed zone'}\n",
      "{'ACCIDENT_NO': 'accident no', 'EVENT_SEQ_NO': 'event seq no', 'EVENT_TYPE': 'event type', 'Event Type Desc': 'event type desc', 'VEHICLE_1_ID': 'vehicle 1 id', 'VEHICLE_1_COLL_PT': 'vehicle 1 coll pt', 'Vehicle 1 Coll Pt Desc': 'vehicle 1 coll pt desc', 'VEHICLE_2_ID': 'vehicle 2 id', 'VEHICLE_2_COLL_PT': 'vehicle 2 coll pt', 'Vehicle 2 Coll Pt Desc': 'vehicle 2 coll pt desc', 'PERSON_ID': 'person id', 'OBJECT_TYPE': 'object type', 'Object Type Desc': 'object type desc'}\n",
      "{'ACCIDENT_NO': 'accident no', 'NODE_ID': 'node id', 'ROAD_ROUTE_1': 'road route 1', 'ROAD_NAME': 'road name', 'ROAD_TYPE': 'road type', 'ROAD_NAME_INT': 'road name int', 'ROAD_TYPE_INT': 'road type int', 'DISTANCE_LOCATION': 'distance location', 'DIRECTION_LOCATION': 'direction location'}\n",
      "{'ACCIDENT_NO': 'accident no', 'ATMOSPH_COND': 'atmosph cond', 'ATMOSPH_COND_SEQ': 'atmosph cond seq', 'Atmosph Cond Desc': 'atmosph cond desc'}\n",
      "{'ACCIDENT_NO': 'accident no', 'PERSON_ID': 'person id', 'VEHICLE_ID': 'vehicle id', 'SEX': 'sex', 'AGE': 'age', 'Age Group': 'age group', 'INJ_LEVEL': 'inj level', 'Inj Level Desc': 'inj level desc', 'SEATING_POSITION': 'seating position', 'HELMET_BELT_WORN': 'helmet belt worn', 'ROAD_USER_TYPE': 'road user type', 'Road User Type Desc': 'road user type desc', 'LICENCE_STATE': 'licence state', 'PEDEST_MOVEMENT': 'pedest movement', 'POSTCODE': 'postcode', 'TAKEN_HOSPITAL': 'taken hospital', 'EJECTED_CODE': 'ejected code'}\n",
      "{'ACCIDENT_NO': 'accident no', 'SURFACE_COND': 'surface cond', 'Surface Cond Desc': 'surface cond desc', 'SURFACE_COND_SEQ': 'surface cond seq'}\n",
      "{'ACCIDENT_NO': 'accident no', 'VEHICLE_ID': 'vehicle id', 'VEHICLE_YEAR_MANUF': 'vehicle year manuf', 'VEHICLE_DCA_CODE': 'vehicle dca code', 'INITIAL_DIRECTION': 'initial direction', 'ROAD_SURFACE_TYPE': 'road surface type', 'Road Surface Type Desc': 'road surface type desc', 'REG_STATE': 'reg state', 'VEHICLE_BODY_STYLE': 'vehicle body style', 'VEHICLE_MAKE': 'vehicle make', 'VEHICLE_POWER': 'vehicle power', 'VEHICLE_TYPE': 'vehicle type', 'Vehicle Type Desc': 'vehicle type desc', 'CONSTRUCTION_TYPE': 'construction type', 'FUEL_TYPE': 'fuel type', 'NO_OF_WHEELS': 'no of wheels', 'NO_OF_CYLINDERS': 'no of cylinders', 'SEATING_CAPACITY': 'seating capacity', 'TARE_WEIGHT': 'tare weight', 'TOTAL_NO_OCCUPANTS': 'total no occupants', 'CARRY_CAPACITY': 'carry capacity', 'FINAL_DIRECTION': 'final direction', 'DRIVER_INTENT': 'driver intent', 'VEHICLE_MOVEMENT': 'vehicle movement', 'TRAILER_TYPE': 'trailer type', 'VEHICLE_COLOUR_1': 'vehicle colour 1', 'VEHICLE_COLOUR_2': 'vehicle colour 2', 'CAUGHT_FIRE': 'caught fire', 'INITIAL_IMPACT': 'initial impact', 'LAMPS': 'lamps', 'LEVEL_OF_DAMAGE': 'level of damage', 'OWNER_POSTCODE': 'owner postcode', 'TOWED_AWAY_FLAG': 'towed away flag', 'TRAFFIC_CONTROL': 'traffic control', 'Traffic Control Desc': 'traffic control desc'}\n",
      "{'Node Id': 'node id', 'Route No': 'route no', 'Chainage Seq': 'chainage seq', 'Route Link No': 'route link no', 'Chainage': 'chainage'}\n",
      "{'ACCIDENT_NO': 'accident no', 'NODE_ID': 'node id', 'COMPLEX_INT_NO': 'complex int no'}\n",
      "{'ACCIDENT_NO': 'accident no', 'NODE_ID': 'node id', 'NODE_TYPE': 'node type', 'AMG_X': 'amg x', 'AMG_Y': 'amg y', 'LGA_NAME': 'lga name', 'Region Name': 'region name', 'Deg Urban Name': 'deg urban name', 'Lat': 'lat', 'Long': 'long', 'Postcode No': 'postcode no'}\n",
      "{'ACCIDENT_NO': 'accident no', 'SUB_DCA_CODE': 'sub dca code', 'SUB_DCA_SEQ': 'sub dca seq', 'Sub Dca Code Desc': 'sub dca code desc'}\n"
     ]
    }
   ],
   "source": [
    "# Clean and preprocess individual datasets\n",
    "# PERSON dataset\n",
    "age_median = person_df['AGE'].median()\n",
    "person_df['AGE'].fillna(age_median, inplace=True)\n",
    "person_df['SEATING_POSITION'].fillna('Unknown', inplace=True)\n",
    "person_df['POSTCODE'].fillna('Unknown', inplace=True)\n",
    "person_df['LICENCE_STATE'].fillna('Unknown', inplace=True)\n",
    "person_df['TAKEN_HOSPITAL'].fillna('Unknown', inplace=True)\n",
    "person_df.drop_duplicates(inplace=True)\n",
    "\n",
    "# ACCIDENT_LOCATION dataset\n",
    "accident_location_df['ROAD_NAME'].fillna('Unknown', inplace=True)\n",
    "accident_location_df['ROAD_TYPE'].fillna('Unknown', inplace=True)\n",
    "accident_location_df.drop(['NEAREST_KM_POST', 'OFF_ROAD_LOCATION'], axis=1, inplace=True)\n",
    "accident_location_df['DISTANCE_LOCATION'] = pd.to_numeric(accident_location_df['DISTANCE_LOCATION'], errors='coerce')\n",
    "\n",
    "# VEHICLE dataset\n",
    "vehicle_df.drop(['VEHICLE_WEIGHT', 'CUBIC_CAPACITY'], axis=1, inplace=True)\n",
    "vehicle_df['VEHICLE_POWER'] = pd.to_numeric(vehicle_df['VEHICLE_POWER'], errors='coerce')\n",
    "\n",
    "columns_to_convert = ['VEHICLE_YEAR_MANUF', 'NO_OF_WHEELS', 'NO_OF_CYLINDERS', 'SEATING_CAPACITY']\n",
    "\n",
    "for column in columns_to_convert:\n",
    "    median_value = vehicle_df[column].median()\n",
    "    vehicle_df[column].fillna(median_value, inplace=True)\n",
    "    vehicle_df[column] = vehicle_df[column].astype(int)\n",
    "\n",
    "## Convert the 'CARRY_CAPACITY' column to integers and Replace NaN values with the median\n",
    "vehicle_df['CARRY_CAPACITY'] = pd.to_numeric(vehicle_df['CARRY_CAPACITY'], errors='coerce')\n",
    "median_value_carry = vehicle_df['CARRY_CAPACITY'].median()\n",
    "vehicle_df['CARRY_CAPACITY'].fillna(median_value_carry, inplace=True)\n",
    "\n",
    "vehicle_df['VEHICLE_MAKE'].fillna('Unknown', inplace=True)\n",
    "vehicle_df['VEHICLE_BODY_STYLE'].fillna('Unknown', inplace=True)\n",
    "vehicle_df.drop(['VEHICLE_MODEL'], axis=1, inplace=True)\n",
    "\n",
    "# ACCIDENT dataset\n",
    "accident_df['PAGE'].fillna('Unknown', inplace=True)\n",
    "accident_df['GRID_REFERENCE_X'].fillna('Unknown', inplace=True)\n",
    "accident_df['GRID_REFERENCE_Y'].fillna('Unknown', inplace=True)\n",
    "accident_df.drop(['EDITION', 'DIRECTORY'], axis=1, inplace=True)\n",
    "accident_df['ACCIDENTTIME'] = pd.to_datetime(accident_df['ACCIDENTTIME'].astype(str).str.replace('.', ':', regex=True), format='%H:%M:%S').dt.time\n",
    "accident_df['ACCIDENTTIME'].fillna(pd.to_datetime('00:00:00').time(), inplace=True)\n",
    "\n",
    "\n",
    "# ACCIDENT_EVENT dataset\n",
    "accident_event_df.dropna(inplace=True)\n",
    "\n",
    "\n",
    "# Clean column names\n",
    "\n",
    "list_df = [accident_df, accident_event_df, accident_location_df, atmospheric_cond_df, person_df, road_surface_cond_df, vehicle_df, accident_chainage_df, node_id_complex_int_id_df, node_df, subdca_df] \n",
    "for data_frame in list_df:\n",
    "    column_names = data_frame.columns\n",
    "    map_name = {}\n",
    "\n",
    "    for column_name in column_names:\n",
    "        map_name[column_name] = column_name.replace('_',' ').lower()\n",
    "\n",
    "    print(map_name)\n",
    "    data_frame.rename(columns=map_name, inplace=True) \n",
    "\n",
    "\n"
   ]
  },
  {
   "cell_type": "code",
   "execution_count": 4,
   "metadata": {},
   "outputs": [],
   "source": [
    "\n",
    "# Merge datasets\n",
    "merged_df = pd.merge(accident_df, accident_event_df, on='accident no', how='left', suffixes=('', '_y'))\n",
    "merged_df = pd.merge(merged_df, atmospheric_cond_df, on='accident no', how='left', suffixes=('', '_y'))\n",
    "merged_df = pd.merge(merged_df, person_df, on='accident no', how='left', suffixes=('', '_y'))\n",
    "merged_df = pd.merge(merged_df, road_surface_cond_df, on='accident no', how='left', suffixes=('', '_y'))\n",
    "merged_df = pd.merge(merged_df, vehicle_df, on='accident no', how='left', suffixes=('', '_y'))\n",
    "merged_df = pd.merge(merged_df, accident_location_df, on='accident no', how='left', suffixes=('', '_y'))\n",
    "merged_df = pd.merge(merged_df, node_df, on='accident no', how='left', suffixes=('', '_y'))\n",
    "merged_df = pd.merge(merged_df, node_id_complex_int_id_df, on='accident no', how='left', suffixes=('', '_y'))\n",
    "\n",
    "merged_df.drop(merged_df.filter(regex='_y$').columns, axis=1, inplace=True)\n",
    "\n",
    "# Save final datasets\n",
    "#accident_chainage_df.to_csv('final_accident_chainage_df.csv', index=False)\n",
    "#node_id_complex_int_id_df.to_csv('final_node_id_complex_int_id_df.csv', index=False)\n",
    "#node_df.to_csv('final_node_df.csv', index=False)\n",
    "#subdca_df.to_csv('final_subdca_df.csv', index=False)\n",
    "\n",
    "#accident_event_df.to_csv('final_accident_event_df.csv', index=False)\n",
    "#accident_location_df.to_csv('final_accident_location_df.csv', index=False)\n",
    "#accident_df.to_csv('final_accident_df.csv', index=False)\n",
    "#atmospheric_cond_df.to_csv('final_atmospheric_cond_df.csv', index=False)\n",
    "#person_df.to_csv('final_person_df.csv', index=False)\n",
    "#road_surface_cond_df.to_csv('final_road_surface_cond_df.csv', index=False)\n",
    "#vehicle_df.to_csv('final_vehicle_df.csv', index=False)\n",
    "\n",
    "#merged_df.to_csv('finalmerged_df.csv', index=False)"
   ]
  },
  {
   "cell_type": "code",
   "execution_count": 5,
   "metadata": {},
   "outputs": [
    {
     "data": {
      "text/plain": [
       "Index(['accident no', 'accidentdate', 'accidenttime', 'accident type',\n",
       "       'accident type desc', 'day of week', 'day week description', 'dca code',\n",
       "       'dca description', 'page',\n",
       "       ...\n",
       "       'node type', 'amg x', 'amg y', 'lga name', 'region name',\n",
       "       'deg urban name', 'lat', 'long', 'postcode no', 'complex int no'],\n",
       "      dtype='object', length=109)"
      ]
     },
     "execution_count": 5,
     "metadata": {},
     "output_type": "execute_result"
    }
   ],
   "source": [
    "merged_df.columns"
   ]
  },
  {
   "cell_type": "code",
   "execution_count": 10,
   "metadata": {},
   "outputs": [
    {
     "name": "stdout",
     "output_type": "stream",
     "text": [
      "accident no\n",
      "accidentdate\n",
      "accidenttime\n",
      "accident type\n",
      "accident type desc\n",
      "day of week\n",
      "day week description\n",
      "dca code\n",
      "dca description\n",
      "page\n",
      "grid reference x\n",
      "grid reference y\n",
      "light condition\n",
      "light condition desc\n",
      "node id\n",
      "no of vehicles\n",
      "no persons\n",
      "no persons inj 2\n",
      "no persons inj 3\n",
      "no persons killed\n",
      "no persons not inj\n",
      "police attend\n",
      "road geometry\n",
      "road geometry desc\n",
      "severity\n",
      "speed zone\n",
      "event seq no\n",
      "event type\n",
      "event type desc\n",
      "vehicle 1 id\n",
      "vehicle 1 coll pt\n",
      "vehicle 1 coll pt desc\n",
      "vehicle 2 id\n",
      "vehicle 2 coll pt\n",
      "vehicle 2 coll pt desc\n",
      "person id\n",
      "object type\n",
      "object type desc\n",
      "atmosph cond\n",
      "atmosph cond seq\n",
      "atmosph cond desc\n",
      "vehicle id\n",
      "sex\n",
      "age\n",
      "age group\n",
      "inj level\n",
      "inj level desc\n",
      "seating position\n",
      "helmet belt worn\n",
      "road user type\n",
      "road user type desc\n",
      "licence state\n",
      "pedest movement\n",
      "postcode\n",
      "taken hospital\n",
      "ejected code\n",
      "surface cond\n",
      "surface cond desc\n",
      "surface cond seq\n",
      "vehicle year manuf\n",
      "vehicle dca code\n",
      "initial direction\n",
      "road surface type\n",
      "road surface type desc\n",
      "reg state\n",
      "vehicle body style\n",
      "vehicle make\n",
      "vehicle power\n",
      "vehicle type\n",
      "vehicle type desc\n",
      "construction type\n",
      "fuel type\n",
      "no of wheels\n",
      "no of cylinders\n",
      "seating capacity\n",
      "tare weight\n",
      "total no occupants\n",
      "carry capacity\n",
      "final direction\n",
      "driver intent\n",
      "vehicle movement\n",
      "trailer type\n",
      "vehicle colour 1\n",
      "vehicle colour 2\n",
      "caught fire\n",
      "initial impact\n",
      "lamps\n",
      "level of damage\n",
      "owner postcode\n",
      "towed away flag\n",
      "traffic control\n",
      "traffic control desc\n",
      "road route 1\n",
      "road name\n",
      "road type\n",
      "road name int\n",
      "road type int\n",
      "distance location\n",
      "direction location\n",
      "node type\n",
      "amg x\n",
      "amg y\n",
      "lga name\n",
      "region name\n",
      "deg urban name\n",
      "lat\n",
      "long\n",
      "postcode no\n",
      "complex int no\n"
     ]
    }
   ],
   "source": [
    "for columns in merged_df.columns :\n",
    "    print(columns)"
   ]
  },
  {
   "cell_type": "code",
   "execution_count": 6,
   "metadata": {},
   "outputs": [],
   "source": [
    "critical_data = ['accident no', 'accidentdate', 'accidenttime', 'accident type desc', 'towed away flag',  # accident info\n",
    "               'lat', 'long', 'road name int', 'road type int', 'lga name', 'region name', 'deg urban name',\n",
    "               'road geometry desc','amg x','amg y','postcode no', # location\n",
    "               'inj level desc','severity', #outcome\n",
    "               'dca description','light condition desc','speed zone','surface cond desc', #cause\n",
    "               'vehicle type desc', 'vehicle year manuf', 'vehicle make', 'vehicle body style', #vehicle\n",
    "               'no of vehicles', 'no persons killed','no persons not inj', 'age', 'sex', 'age group', 'road user type' # Demongraphic\n",
    "               ]\n",
    "\n",
    "final_data = merged_df[critical_data]"
   ]
  },
  {
   "cell_type": "code",
   "execution_count": 7,
   "metadata": {},
   "outputs": [
    {
     "data": {
      "text/plain": [
       "Index(['accident no', 'accidentdate', 'accidenttime', 'accident type desc',\n",
       "       'towed away flag', 'lat', 'long', 'road name int', 'road type int',\n",
       "       'lga name', 'region name', 'deg urban name', 'road geometry desc',\n",
       "       'amg x', 'amg y', 'postcode no', 'inj level desc', 'severity',\n",
       "       'dca description', 'light condition desc', 'speed zone',\n",
       "       'surface cond desc', 'vehicle type desc', 'vehicle year manuf',\n",
       "       'vehicle make', 'vehicle body style', 'no of vehicles',\n",
       "       'no persons killed', 'no persons not inj', 'age', 'sex', 'age group',\n",
       "       'road user type'],\n",
       "      dtype='object')"
      ]
     },
     "execution_count": 7,
     "metadata": {},
     "output_type": "execute_result"
    }
   ],
   "source": [
    "final_data.columns"
   ]
  },
  {
   "cell_type": "code",
   "execution_count": 8,
   "metadata": {},
   "outputs": [],
   "source": [
    "final_data.to_csv('final.csv', index=False)"
   ]
  },
  {
   "cell_type": "code",
   "execution_count": 9,
   "metadata": {},
   "outputs": [
    {
     "data": {
      "text/plain": [
       "Index(['accident no', 'accidentdate', 'accidenttime', 'accident type desc',\n",
       "       'towed away flag', 'lat', 'long', 'road name int', 'road type int',\n",
       "       'lga name', 'region name', 'deg urban name', 'road geometry desc',\n",
       "       'amg x', 'amg y', 'postcode no', 'inj level desc', 'severity',\n",
       "       'dca description', 'light condition desc', 'speed zone',\n",
       "       'surface cond desc', 'vehicle type desc', 'vehicle year manuf',\n",
       "       'vehicle make', 'vehicle body style', 'no of vehicles',\n",
       "       'no persons killed', 'no persons not inj', 'age', 'sex', 'age group',\n",
       "       'road user type'],\n",
       "      dtype='object')"
      ]
     },
     "execution_count": 9,
     "metadata": {},
     "output_type": "execute_result"
    }
   ],
   "source": [
    "final_data.columns"
   ]
  }
 ],
 "metadata": {
  "kernelspec": {
   "display_name": "Python 3",
   "language": "python",
   "name": "python3"
  },
  "language_info": {
   "codemirror_mode": {
    "name": "ipython",
    "version": 3
   },
   "file_extension": ".py",
   "mimetype": "text/x-python",
   "name": "python",
   "nbconvert_exporter": "python",
   "pygments_lexer": "ipython3",
   "version": "3.10.5"
  }
 },
 "nbformat": 4,
 "nbformat_minor": 2
}
